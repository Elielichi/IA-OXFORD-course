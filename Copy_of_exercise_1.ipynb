{
  "cells": [
    {
      "cell_type": "markdown",
      "metadata": {
        "id": "view-in-github",
        "colab_type": "text"
      },
      "source": [
        "<a href=\"https://colab.research.google.com/github/Elielichi/IA-OXFORD-course/blob/main/Copy_of_exercise_1.ipynb\" target=\"_parent\"><img src=\"https://colab.research.google.com/assets/colab-badge.svg\" alt=\"Open In Colab\"/></a>"
      ]
    },
    {
      "cell_type": "markdown",
      "metadata": {
        "id": "9ojBouB1Dlpp"
      },
      "source": [
        "# Introduction to Machine Learning: Linear Regression\n"
      ]
    },
    {
      "cell_type": "markdown",
      "metadata": {
        "id": "qJe6tQdGDlpt"
      },
      "source": [
        "<img src=\"https://i.ibb.co/Yy1MLvV/wizard-2.png\" alt=\"Magic\" width=\"500\"/>\n",
        "\n"
      ]
    },
    {
      "cell_type": "markdown",
      "metadata": {
        "id": "gTp5mZddDlpt"
      },
      "source": [
        "In this notebook, we will explore one of the fundamental algorithms in machine learning: linear regression. This algorithm serves as the foundation for many other advanced machine learning models and techniques.\n",
        "\n",
        "Linear regression is a type of predictive modeling technique which is used to find the linear relationship between a dependent variable and one or more independent variables. The term \"linear\" refers to the fact that the relationship will be a straight line.\n",
        "\n",
        "We will start by generating synthetic data for linear regression. We will then split the data into training and testing sets, perform the regression, test the results, and visualize the solution.\n",
        "\n",
        "In the second part of the notebook, we will introduce the concept of non-linear fitting by generating a polynomial basis for the linear regression problem. This will allow us to model more complex relationships between the variables.\n",
        "\n",
        "By the end of this notebook, you will have a solid understanding of how linear regression works, how to implement it in Python, and how to visualize its results.\n",
        "\n",
        "Let's get started!\n",
        "\n",
        "Disclaimer: The cool wizard images were generated using stable diffusion."
      ]
    },
    {
      "cell_type": "markdown",
      "metadata": {
        "id": "kd6M-C_xDlpu"
      },
      "source": [
        "<img src=\"https://static.javatpoint.com/tutorial/machine-learning/images/regression-vs-classification-in-machine-learning.png\" alt=\"Regression vs Classification\" width=\"500\"/>\n"
      ]
    },
    {
      "cell_type": "markdown",
      "metadata": {
        "id": "TTp2QwOhDlpu"
      },
      "source": [
        "### Import Libraries"
      ]
    },
    {
      "cell_type": "code",
      "execution_count": null,
      "metadata": {
        "id": "EzFNx8T6Dlpv"
      },
      "outputs": [],
      "source": [
        "# Importing Necessary Libraries\n",
        "'''\n",
        "As usual we always need to include the necessary libraries for our project.\n",
        "We will be using sklearn which contains implementations of linear and logistic regression\n",
        "along side many useful functions such as data splitting and metrics for evaluation.\n",
        "'''\n",
        "\n",
        "import numpy as np\n",
        "import matplotlib.pyplot as plt\n",
        "from ipywidgets import interact, FloatSlider\n",
        "\n",
        "from sklearn.model_selection import train_test_split\n",
        "from sklearn.linear_model import LinearRegression\n",
        "from sklearn.metrics import mean_squared_error"
      ]
    },
    {
      "cell_type": "markdown",
      "metadata": {
        "id": "EGcPZg49Dlpw"
      },
      "source": [
        "### Data Generation and Visualization"
      ]
    },
    {
      "cell_type": "code",
      "execution_count": null,
      "metadata": {
        "id": "_x1_uOvSDlpw"
      },
      "outputs": [],
      "source": [
        "# Set the default fontsize for titles and labels\n",
        "plt.rcParams['font.size'] = 15\n",
        "\n",
        "# Set the default fontsize for ticks\n",
        "plt.rcParams['xtick.labelsize'] = 15\n",
        "plt.rcParams['ytick.labelsize'] = 15\n",
        "\n",
        "# Set the default fontsize for legends\n",
        "plt.rcParams['legend.fontsize'] = 15"
      ]
    },
    {
      "cell_type": "markdown",
      "metadata": {
        "id": "PrEgoYxVDlpw"
      },
      "source": [
        "### The mighty wizard presents you with data and your task is to manually tune the slope and intercept of the line to provide him with a good fit ... Good luck ! You better please the wizard or else he will cast a spell on you :( !"
      ]
    },
    {
      "cell_type": "code",
      "execution_count": null,
      "metadata": {
        "id": "zUbqLwaBDlpw",
        "colab": {
          "base_uri": "https://localhost:8080/",
          "height": 639,
          "referenced_widgets": [
            "c9f26e3d7e5a45559ec5f6012399d328",
            "19ff56af05424903bdcffeb5d6fb3e17",
            "e71dfa206d7240919352ca89b4be687d",
            "4596b05465dc41ea9c6dfce2e2e03005",
            "76e9b3aaf1604d659591f557aa50fbb6",
            "611a90c5a8034945aa0012a3c0b67cac",
            "c7876fffd9c7400fb5af0a9392f92058",
            "52a7718fad0346228bed93086dc2d0c0",
            "10ef700b05fb48a69b7e9c130542e987",
            "87bd1825dd694cf5b0ca72a157a9a0f3"
          ]
        },
        "outputId": "36a22610-930b-468a-fe28-c89f52fbf40c"
      },
      "outputs": [
        {
          "output_type": "display_data",
          "data": {
            "text/plain": [
              "interactive(children=(FloatSlider(value=0.0, description='Slope:', max=20.0, min=-20.0, step=0.5), FloatSlider…"
            ],
            "application/vnd.jupyter.widget-view+json": {
              "version_major": 2,
              "version_minor": 0,
              "model_id": "c9f26e3d7e5a45559ec5f6012399d328"
            }
          },
          "metadata": {}
        },
        {
          "output_type": "execute_result",
          "data": {
            "text/plain": [
              "<function __main__.plot_line(slope, intercept)>"
            ],
            "text/html": [
              "<div style=\"max-width:800px; border: 1px solid var(--colab-border-color);\"><style>\n",
              "      pre.function-repr-contents {\n",
              "        overflow-x: auto;\n",
              "        padding: 8px 12px;\n",
              "        max-height: 500px;\n",
              "      }\n",
              "\n",
              "      pre.function-repr-contents.function-repr-contents-collapsed {\n",
              "        cursor: pointer;\n",
              "        max-height: 100px;\n",
              "      }\n",
              "    </style>\n",
              "    <pre style=\"white-space: initial; background:\n",
              "         var(--colab-secondary-surface-color); padding: 8px 12px;\n",
              "         border-bottom: 1px solid var(--colab-border-color);\"><b>plot_line</b><br/>def plot_line(slope, intercept)</pre><pre class=\"function-repr-contents function-repr-contents-collapsed\" style=\"\"><a class=\"filepath\" style=\"display:none\" href=\"#\">/tmp/ipython-input-651276854.py</a>&lt;no docstring&gt;</pre></div>"
            ]
          },
          "metadata": {},
          "execution_count": 11
        }
      ],
      "source": [
        "np.random.seed(0)  # for reproducibility\n",
        "# number of samples\n",
        "N = 1000\n",
        "\n",
        "# Data generation parameters\n",
        "slope = 10\n",
        "intercept = 2\n",
        "noise_scale = 0.5\n",
        "\n",
        "# Generate data\n",
        "X = np.random.rand(N, 1)  # 1000 random numbers\n",
        "y = slope * X + intercept + noise_scale * np.random.randn(N, 1)  # linear relationship with some noise\n",
        "\n",
        "def plot_line(slope, intercept):\n",
        "    # Generate a range of x values\n",
        "    x_range = np.linspace(X.min(), X.max(), 100)\n",
        "\n",
        "    # Calculate the corresponding y values from the user-selected slope and intercept\n",
        "    y_range = slope * x_range + intercept\n",
        "\n",
        "    # Plot the original data and the user-fitted line\n",
        "    plt.scatter(X, y, color ='b', alpha=0.5, label=\"Noisy Data\")\n",
        "    plt.plot(x_range, y_range, color ='r', linewidth=3, label=\"User-fitted Line\")\n",
        "    plt.xlabel('X')\n",
        "    plt.ylabel('y')\n",
        "    plt.legend()\n",
        "    plt.title('Generated Data and User Fitted Line', fontweight='bold')\n",
        "    plt.show()\n",
        "\n",
        "# Create sliders for interactive parameters\n",
        "slope_slider = FloatSlider(min=-20, max=20, step=0.5, value=0, description='Slope:')\n",
        "intercept_slider = FloatSlider(min=-10, max=10, step=0.1, value=0, description='Intercept:')\n",
        "\n",
        "# Use interact function to create the interaction\n",
        "interact(plot_line, slope=slope_slider, intercept=intercept_slider)"
      ]
    },
    {
      "cell_type": "markdown",
      "metadata": {
        "id": "6gp0n5gwDlpx"
      },
      "source": [
        "### Sadly, the wizard has 20,000 more lines to fit ... We need to automate this process! (Linear Regression to the Rescue)"
      ]
    },
    {
      "cell_type": "code",
      "execution_count": null,
      "metadata": {
        "id": "TiVzf3DvDlpx",
        "colab": {
          "base_uri": "https://localhost:8080/",
          "height": 489
        },
        "outputId": "5fb013bd-c932-474c-e46b-6aaf586f2c85"
      },
      "outputs": [
        {
          "output_type": "display_data",
          "data": {
            "text/plain": [
              "<Figure size 640x480 with 1 Axes>"
            ],
            "image/png": "[encoded data removed]"
          },
          "metadata": {}
        }
      ],
      "source": [
        "# We replot the data here along with the original line !\n",
        "np.random.seed(0)  # for reproducibility\n",
        "\n",
        "# TODO: select number of samples\n",
        "N = 120\n",
        "\n",
        "# TODO: select parameters for the data\n",
        "slope = 9.5\n",
        "intercept = 2.1\n",
        "noise_scale = 0.5\n",
        "\n",
        "# generate random uniform (use rand in numpy library)\n",
        "X = np.random.rand(N, 1)\n",
        "\n",
        "# y equation without noise\n",
        "y_without_noise =slope * X + intercept + np.random.randn(N, 1)\n",
        "\n",
        "# noisy data\n",
        "y = y_without_noise + noise_scale * np.random.randn(N, 1)  # linear relationship with some noise\n",
        "\n",
        "# Generate a range of x values\n",
        "x_range = np.linspace(X.min(), X.max(), 100)\n",
        "\n",
        "# Calculate the corresponding y values (same equation as y_without_noise)\n",
        "y_range = slope * x_range + intercept\n",
        "\n",
        "# Plot the original data and the fitted line\n",
        "plt.scatter(X, y, color ='b', alpha=0.5, label=\"Noisy Data\")\n",
        "plt.plot(x_range, y_range, color ='k', linestyle='--', linewidth=3, label=\"Original Line\")\n",
        "plt.xlabel('X')\n",
        "plt.ylabel('y')\n",
        "plt.legend()\n",
        "plt.title('Generated Data', fontweight='bold')\n",
        "plt.show()"
      ]
    },
    {
      "cell_type": "code",
      "execution_count": null,
      "metadata": {
        "id": "VbaCE_bDDlpx"
      },
      "outputs": [],
      "source": [
        "# Split the data into train and test\n",
        "X_train, X_test, y_train, y_test = train_test_split(X, y, test_size=0.2, random_state=42)  # 80% training, 20% testing"
      ]
    },
    {
      "cell_type": "code",
      "source": [
        "# TODO: print the size of the X_train and y_train data\n",
        "print(f\"The size of the X_train is {len(X_train)} and the size of the y_train {len(y_train)}\")\n",
        "\n",
        "# TODO: print the size of the X_test and y_test data\n",
        "print(f\"The size of the X_test is {len(X_test)} and the size of the y_test {len(y_test)}\")\n",
        "\n"
      ],
      "metadata": {
        "id": "1vBKkCTCmc3b",
        "colab": {
          "base_uri": "https://localhost:8080/"
        },
        "outputId": "85587332-a3ff-43f5-be85-872c8fcd6574"
      },
      "execution_count": null,
      "outputs": [
        {
          "output_type": "stream",
          "name": "stdout",
          "text": [
            "The size of the X_train is 96 and the size of the y_train 96\n",
            "The size of the X_test is 24 and the size of the y_test 24\n"
          ]
        }
      ]
    },
    {
      "cell_type": "code",
      "execution_count": null,
      "metadata": {
        "id": "c91PjXFuDlpx",
        "colab": {
          "base_uri": "https://localhost:8080/",
          "height": 489
        },
        "outputId": "6af01f21-84fb-4d18-9f24-7c56c240708f"
      },
      "outputs": [
        {
          "output_type": "display_data",
          "data": {
            "text/plain": [
              "<Figure size 640x480 with 1 Axes>"
            ],
            "image/png": "[encoded data removed]"
          },
          "metadata": {}
        }
      ],
      "source": [
        "# use plt.scatter to plot the training data (suggestion for parameters of plot: color ='b', label='Training data', alpha=0.5))\n",
        "plt.scatter(X_train, y_train, color='b', label='Training data', alpha=0.5 )\n",
        "# use plt.scatter to plot the testing data (suggestion for parameters of plot: color ='r', label='Testing data', alpha=0.5))\n",
        "plt.scatter(X_test, y_test, color ='r', label='Testing data', alpha=0.5)\n",
        "plt.xlabel('X')\n",
        "plt.ylabel('y')\n",
        "plt.title('Training and Testing Data')\n",
        "plt.legend()  # add a legend\n",
        "plt.show()"
      ]
    },
    {
      "cell_type": "markdown",
      "metadata": {
        "id": "iFaH9Vf6Dlpy"
      },
      "source": [
        "### Model Fitting and Prediction"
      ]
    },
    {
      "cell_type": "code",
      "execution_count": null,
      "metadata": {
        "id": "LdKwWeXJDlpy",
        "colab": {
          "base_uri": "https://localhost:8080/",
          "height": 80
        },
        "outputId": "413ea6d2-95b4-47dc-dee0-d4208fb239f1"
      },
      "outputs": [
        {
          "output_type": "execute_result",
          "data": {
            "text/plain": [
              "LinearRegression()"
            ],
            "text/html": [
              "<style>#sk-container-id-1 {\n",
              "  /* Definition of color scheme common for light and dark mode */\n",
              "  --sklearn-color-text: #000;\n",
              "  --sklearn-color-text-muted: #666;\n",
              "  --sklearn-color-line: gray;\n",
              "  /* Definition of color scheme for unfitted estimators */\n",
              "  --sklearn-color-unfitted-level-0: #fff5e6;\n",
              "  --sklearn-color-unfitted-level-1: #f6e4d2;\n",
              "  --sklearn-color-unfitted-level-2: #ffe0b3;\n",
              "  --sklearn-color-unfitted-level-3: chocolate;\n",
              "  /* Definition of color scheme for fitted estimators */\n",
              "  --sklearn-color-fitted-level-0: #f0f8ff;\n",
              "  --sklearn-color-fitted-level-1: #d4ebff;\n",
              "  --sklearn-color-fitted-level-2: #b3dbfd;\n",
              "  --sklearn-color-fitted-level-3: cornflowerblue;\n",
              "\n",
              "  /* Specific color for light theme */\n",
              "  --sklearn-color-text-on-default-background: var(--sg-text-color, var(--theme-code-foreground, var(--jp-content-font-color1, black)));\n",
              "  --sklearn-color-background: var(--sg-background-color, var(--theme-background, var(--jp-layout-color0, white)));\n",
              "  --sklearn-color-border-box: var(--sg-text-color, var(--theme-code-foreground, var(--jp-content-font-color1, black)));\n",
              "  --sklearn-color-icon: #696969;\n",
              "\n",
              "  @media (prefers-color-scheme: dark) {\n",
              "    /* Redefinition of color scheme for dark theme */\n",
              "    --sklearn-color-text-on-default-background: var(--sg-text-color, var(--theme-code-foreground, var(--jp-content-font-color1, white)));\n",
              "    --sklearn-color-background: var(--sg-background-color, var(--theme-background, var(--jp-layout-color0, #111)));\n",
              "    --sklearn-color-border-box: var(--sg-text-color, var(--theme-code-foreground, var(--jp-content-font-color1, white)));\n",
              "    --sklearn-color-icon: #878787;\n",
              "  }\n",
              "}\n",
              "\n",
              "#sk-container-id-1 {\n",
              "  color: var(--sklearn-color-text);\n",
              "}\n",
              "\n",
              "#sk-container-id-1 pre {\n",
              "  padding: 0;\n",
              "}\n",
              "\n",
              "#sk-container-id-1 input.sk-hidden--visually {\n",
              "  border: 0;\n",
              "  clip: rect(1px 1px 1px 1px);\n",
              "  clip: rect(1px, 1px, 1px, 1px);\n",
              "  height: 1px;\n",
              "  margin: -1px;\n",
              "  overflow: hidden;\n",
              "  padding: 0;\n",
              "  position: absolute;\n",
              "  width: 1px;\n",
              "}\n",
              "\n",
              "#sk-container-id-1 div.sk-dashed-wrapped {\n",
              "  border: 1px dashed var(--sklearn-color-line);\n",
              "  margin: 0 0.4em 0.5em 0.4em;\n",
              "  box-sizing: border-box;\n",
              "  padding-bottom: 0.4em;\n",
              "  background-color: var(--sklearn-color-background);\n",
              "}\n",
              "\n",
              "#sk-container-id-1 div.sk-container {\n",
              "  /* jupyter's `normalize.less` sets `[hidden] { display: none; }`\n",
              "     but bootstrap.min.css set `[hidden] { display: none !important; }`\n",
              "     so we also need the `!important` here to be able to override the\n",
              "     default hidden behavior on the sphinx rendered scikit-learn.org.\n",
              "     See: https://github.com/scikit-learn/scikit-learn/issues/21755 */\n",
              "  display: inline-block !important;\n",
              "  position: relative;\n",
              "}\n",
              "\n",
              "#sk-container-id-1 div.sk-text-repr-fallback {\n",
              "  display: none;\n",
              "}\n",
              "\n",
              "div.sk-parallel-item,\n",
              "div.sk-serial,\n",
              "div.sk-item {\n",
              "  /* draw centered vertical line to link estimators */\n",
              "  background-image: linear-gradient(var(--sklearn-color-text-on-default-background), var(--sklearn-color-text-on-default-background));\n",
              "  background-size: 2px 100%;\n",
              "  background-repeat: no-repeat;\n",
              "  background-position: center center;\n",
              "}\n",
              "\n",
              "/* Parallel-specific style estimator block */\n",
              "\n",
              "#sk-container-id-1 div.sk-parallel-item::after {\n",
              "  content: \"\";\n",
              "  width: 100%;\n",
              "  border-bottom: 2px solid var(--sklearn-color-text-on-default-background);\n",
              "  flex-grow: 1;\n",
              "}\n",
              "\n",
              "#sk-container-id-1 div.sk-parallel {\n",
              "  display: flex;\n",
              "  align-items: stretch;\n",
              "  justify-content: center;\n",
              "  background-color: var(--sklearn-color-background);\n",
              "  position: relative;\n",
              "}\n",
              "\n",
              "#sk-container-id-1 div.sk-parallel-item {\n",
              "  display: flex;\n",
              "  flex-direction: column;\n",
              "}\n",
              "\n",
              "#sk-container-id-1 div.sk-parallel-item:first-child::after {\n",
              "  align-self: flex-end;\n",
              "  width: 50%;\n",
              "}\n",
              "\n",
              "#sk-container-id-1 div.sk-parallel-item:last-child::after {\n",
              "  align-self: flex-start;\n",
              "  width: 50%;\n",
              "}\n",
              "\n",
              "#sk-container-id-1 div.sk-parallel-item:only-child::after {\n",
              "  width: 0;\n",
              "}\n",
              "\n",
              "/* Serial-specific style estimator block */\n",
              "\n",
              "#sk-container-id-1 div.sk-serial {\n",
              "  display: flex;\n",
              "  flex-direction: column;\n",
              "  align-items: center;\n",
              "  background-color: var(--sklearn-color-background);\n",
              "  padding-right: 1em;\n",
              "  padding-left: 1em;\n",
              "}\n",
              "\n",
              "\n",
              "/* Toggleable style: style used for estimator/Pipeline/ColumnTransformer box that is\n",
              "clickable and can be expanded/collapsed.\n",
              "- Pipeline and ColumnTransformer use this feature and define the default style\n",
              "- Estimators will overwrite some part of the style using the `sk-estimator` class\n",
              "*/\n",
              "\n",
              "/* Pipeline and ColumnTransformer style (default) */\n",
              "\n",
              "#sk-container-id-1 div.sk-toggleable {\n",
              "  /* Default theme specific background. It is overwritten whether we have a\n",
              "  specific estimator or a Pipeline/ColumnTransformer */\n",
              "  background-color: var(--sklearn-color-background);\n",
              "}\n",
              "\n",
              "/* Toggleable label */\n",
              "#sk-container-id-1 label.sk-toggleable__label {\n",
              "  cursor: pointer;\n",
              "  display: flex;\n",
              "  width: 100%;\n",
              "  margin-bottom: 0;\n",
              "  padding: 0.5em;\n",
              "  box-sizing: border-box;\n",
              "  text-align: center;\n",
              "  align-items: start;\n",
              "  justify-content: space-between;\n",
              "  gap: 0.5em;\n",
              "}\n",
              "\n",
              "#sk-container-id-1 label.sk-toggleable__label .caption {\n",
              "  font-size: 0.6rem;\n",
              "  font-weight: lighter;\n",
              "  color: var(--sklearn-color-text-muted);\n",
              "}\n",
              "\n",
              "#sk-container-id-1 label.sk-toggleable__label-arrow:before {\n",
              "  /* Arrow on the left of the label */\n",
              "  content: \"▸\";\n",
              "  float: left;\n",
              "  margin-right: 0.25em;\n",
              "  color: var(--sklearn-color-icon);\n",
              "}\n",
              "\n",
              "#sk-container-id-1 label.sk-toggleable__label-arrow:hover:before {\n",
              "  color: var(--sklearn-color-text);\n",
              "}\n",
              "\n",
              "/* Toggleable content - dropdown */\n",
              "\n",
              "#sk-container-id-1 div.sk-toggleable__content {\n",
              "  max-height: 0;\n",
              "  max-width: 0;\n",
              "  overflow: hidden;\n",
              "  text-align: left;\n",
              "  /* unfitted */\n",
              "  background-color: var(--sklearn-color-unfitted-level-0);\n",
              "}\n",
              "\n",
              "#sk-container-id-1 div.sk-toggleable__content.fitted {\n",
              "  /* fitted */\n",
              "  background-color: var(--sklearn-color-fitted-level-0);\n",
              "}\n",
              "\n",
              "#sk-container-id-1 div.sk-toggleable__content pre {\n",
              "  margin: 0.2em;\n",
              "  border-radius: 0.25em;\n",
              "  color: var(--sklearn-color-text);\n",
              "  /* unfitted */\n",
              "  background-color: var(--sklearn-color-unfitted-level-0);\n",
              "}\n",
              "\n",
              "#sk-container-id-1 div.sk-toggleable__content.fitted pre {\n",
              "  /* unfitted */\n",
              "  background-color: var(--sklearn-color-fitted-level-0);\n",
              "}\n",
              "\n",
              "#sk-container-id-1 input.sk-toggleable__control:checked~div.sk-toggleable__content {\n",
              "  /* Expand drop-down */\n",
              "  max-height: 200px;\n",
              "  max-width: 100%;\n",
              "  overflow: auto;\n",
              "}\n",
              "\n",
              "#sk-container-id-1 input.sk-toggleable__control:checked~label.sk-toggleable__label-arrow:before {\n",
              "  content: \"▾\";\n",
              "}\n",
              "\n",
              "/* Pipeline/ColumnTransformer-specific style */\n",
              "\n",
              "#sk-container-id-1 div.sk-label input.sk-toggleable__control:checked~label.sk-toggleable__label {\n",
              "  color: var(--sklearn-color-text);\n",
              "  background-color: var(--sklearn-color-unfitted-level-2);\n",
              "}\n",
              "\n",
              "#sk-container-id-1 div.sk-label.fitted input.sk-toggleable__control:checked~label.sk-toggleable__label {\n",
              "  background-color: var(--sklearn-color-fitted-level-2);\n",
              "}\n",
              "\n",
              "/* Estimator-specific style */\n",
              "\n",
              "/* Colorize estimator box */\n",
              "#sk-container-id-1 div.sk-estimator input.sk-toggleable__control:checked~label.sk-toggleable__label {\n",
              "  /* unfitted */\n",
              "  background-color: var(--sklearn-color-unfitted-level-2);\n",
              "}\n",
              "\n",
              "#sk-container-id-1 div.sk-estimator.fitted input.sk-toggleable__control:checked~label.sk-toggleable__label {\n",
              "  /* fitted */\n",
              "  background-color: var(--sklearn-color-fitted-level-2);\n",
              "}\n",
              "\n",
              "#sk-container-id-1 div.sk-label label.sk-toggleable__label,\n",
              "#sk-container-id-1 div.sk-label label {\n",
              "  /* The background is the default theme color */\n",
              "  color: var(--sklearn-color-text-on-default-background);\n",
              "}\n",
              "\n",
              "/* On hover, darken the color of the background */\n",
              "#sk-container-id-1 div.sk-label:hover label.sk-toggleable__label {\n",
              "  color: var(--sklearn-color-text);\n",
              "  background-color: var(--sklearn-color-unfitted-level-2);\n",
              "}\n",
              "\n",
              "/* Label box, darken color on hover, fitted */\n",
              "#sk-container-id-1 div.sk-label.fitted:hover label.sk-toggleable__label.fitted {\n",
              "  color: var(--sklearn-color-text);\n",
              "  background-color: var(--sklearn-color-fitted-level-2);\n",
              "}\n",
              "\n",
              "/* Estimator label */\n",
              "\n",
              "#sk-container-id-1 div.sk-label label {\n",
              "  font-family: monospace;\n",
              "  font-weight: bold;\n",
              "  display: inline-block;\n",
              "  line-height: 1.2em;\n",
              "}\n",
              "\n",
              "#sk-container-id-1 div.sk-label-container {\n",
              "  text-align: center;\n",
              "}\n",
              "\n",
              "/* Estimator-specific */\n",
              "#sk-container-id-1 div.sk-estimator {\n",
              "  font-family: monospace;\n",
              "  border: 1px dotted var(--sklearn-color-border-box);\n",
              "  border-radius: 0.25em;\n",
              "  box-sizing: border-box;\n",
              "  margin-bottom: 0.5em;\n",
              "  /* unfitted */\n",
              "  background-color: var(--sklearn-color-unfitted-level-0);\n",
              "}\n",
              "\n",
              "#sk-container-id-1 div.sk-estimator.fitted {\n",
              "  /* fitted */\n",
              "  background-color: var(--sklearn-color-fitted-level-0);\n",
              "}\n",
              "\n",
              "/* on hover */\n",
              "#sk-container-id-1 div.sk-estimator:hover {\n",
              "  /* unfitted */\n",
              "  background-color: var(--sklearn-color-unfitted-level-2);\n",
              "}\n",
              "\n",
              "#sk-container-id-1 div.sk-estimator.fitted:hover {\n",
              "  /* fitted */\n",
              "  background-color: var(--sklearn-color-fitted-level-2);\n",
              "}\n",
              "\n",
              "/* Specification for estimator info (e.g. \"i\" and \"?\") */\n",
              "\n",
              "/* Common style for \"i\" and \"?\" */\n",
              "\n",
              ".sk-estimator-doc-link,\n",
              "a:link.sk-estimator-doc-link,\n",
              "a:visited.sk-estimator-doc-link {\n",
              "  float: right;\n",
              "  font-size: smaller;\n",
              "  line-height: 1em;\n",
              "  font-family: monospace;\n",
              "  background-color: var(--sklearn-color-background);\n",
              "  border-radius: 1em;\n",
              "  height: 1em;\n",
              "  width: 1em;\n",
              "  text-decoration: none !important;\n",
              "  margin-left: 0.5em;\n",
              "  text-align: center;\n",
              "  /* unfitted */\n",
              "  border: var(--sklearn-color-unfitted-level-1) 1pt solid;\n",
              "  color: var(--sklearn-color-unfitted-level-1);\n",
              "}\n",
              "\n",
              ".sk-estimator-doc-link.fitted,\n",
              "a:link.sk-estimator-doc-link.fitted,\n",
              "a:visited.sk-estimator-doc-link.fitted {\n",
              "  /* fitted */\n",
              "  border: var(--sklearn-color-fitted-level-1) 1pt solid;\n",
              "  color: var(--sklearn-color-fitted-level-1);\n",
              "}\n",
              "\n",
              "/* On hover */\n",
              "div.sk-estimator:hover .sk-estimator-doc-link:hover,\n",
              ".sk-estimator-doc-link:hover,\n",
              "div.sk-label-container:hover .sk-estimator-doc-link:hover,\n",
              ".sk-estimator-doc-link:hover {\n",
              "  /* unfitted */\n",
              "  background-color: var(--sklearn-color-unfitted-level-3);\n",
              "  color: var(--sklearn-color-background);\n",
              "  text-decoration: none;\n",
              "}\n",
              "\n",
              "div.sk-estimator.fitted:hover .sk-estimator-doc-link.fitted:hover,\n",
              ".sk-estimator-doc-link.fitted:hover,\n",
              "div.sk-label-container:hover .sk-estimator-doc-link.fitted:hover,\n",
              ".sk-estimator-doc-link.fitted:hover {\n",
              "  /* fitted */\n",
              "  background-color: var(--sklearn-color-fitted-level-3);\n",
              "  color: var(--sklearn-color-background);\n",
              "  text-decoration: none;\n",
              "}\n",
              "\n",
              "/* Span, style for the box shown on hovering the info icon */\n",
              ".sk-estimator-doc-link span {\n",
              "  display: none;\n",
              "  z-index: 9999;\n",
              "  position: relative;\n",
              "  font-weight: normal;\n",
              "  right: .2ex;\n",
              "  padding: .5ex;\n",
              "  margin: .5ex;\n",
              "  width: min-content;\n",
              "  min-width: 20ex;\n",
              "  max-width: 50ex;\n",
              "  color: var(--sklearn-color-text);\n",
              "  box-shadow: 2pt 2pt 4pt #999;\n",
              "  /* unfitted */\n",
              "  background: var(--sklearn-color-unfitted-level-0);\n",
              "  border: .5pt solid var(--sklearn-color-unfitted-level-3);\n",
              "}\n",
              "\n",
              ".sk-estimator-doc-link.fitted span {\n",
              "  /* fitted */\n",
              "  background: var(--sklearn-color-fitted-level-0);\n",
              "  border: var(--sklearn-color-fitted-level-3);\n",
              "}\n",
              "\n",
              ".sk-estimator-doc-link:hover span {\n",
              "  display: block;\n",
              "}\n",
              "\n",
              "/* \"?\"-specific style due to the `<a>` HTML tag */\n",
              "\n",
              "#sk-container-id-1 a.estimator_doc_link {\n",
              "  float: right;\n",
              "  font-size: 1rem;\n",
              "  line-height: 1em;\n",
              "  font-family: monospace;\n",
              "  background-color: var(--sklearn-color-background);\n",
              "  border-radius: 1rem;\n",
              "  height: 1rem;\n",
              "  width: 1rem;\n",
              "  text-decoration: none;\n",
              "  /* unfitted */\n",
              "  color: var(--sklearn-color-unfitted-level-1);\n",
              "  border: var(--sklearn-color-unfitted-level-1) 1pt solid;\n",
              "}\n",
              "\n",
              "#sk-container-id-1 a.estimator_doc_link.fitted {\n",
              "  /* fitted */\n",
              "  border: var(--sklearn-color-fitted-level-1) 1pt solid;\n",
              "  color: var(--sklearn-color-fitted-level-1);\n",
              "}\n",
              "\n",
              "/* On hover */\n",
              "#sk-container-id-1 a.estimator_doc_link:hover {\n",
              "  /* unfitted */\n",
              "  background-color: var(--sklearn-color-unfitted-level-3);\n",
              "  color: var(--sklearn-color-background);\n",
              "  text-decoration: none;\n",
              "}\n",
              "\n",
              "#sk-container-id-1 a.estimator_doc_link.fitted:hover {\n",
              "  /* fitted */\n",
              "  background-color: var(--sklearn-color-fitted-level-3);\n",
              "}\n",
              "</style><div id=\"sk-container-id-1\" class=\"sk-top-container\"><div class=\"sk-text-repr-fallback\"><pre>LinearRegression()</pre><b>In a Jupyter environment, please rerun this cell to show the HTML representation or trust the notebook. <br />On GitHub, the HTML representation is unable to render, please try loading this page with nbviewer.org.</b></div><div class=\"sk-container\" hidden><div class=\"sk-item\"><div class=\"sk-estimator fitted sk-toggleable\"><input class=\"sk-toggleable__control sk-hidden--visually\" id=\"sk-estimator-id-1\" type=\"checkbox\" checked><label for=\"sk-estimator-id-1\" class=\"sk-toggleable__label fitted sk-toggleable__label-arrow\"><div><div>LinearRegression</div></div><div><a class=\"sk-estimator-doc-link fitted\" rel=\"noreferrer\" target=\"_blank\" href=\"https://scikit-learn.org/1.6/modules/generated/sklearn.linear_model.LinearRegression.html\">?<span>Documentation for LinearRegression</span></a><span class=\"sk-estimator-doc-link fitted\">i<span>Fitted</span></span></div></label><div class=\"sk-toggleable__content fitted\"><pre>LinearRegression()</pre></div> </div></div></div></div>"
            ]
          },
          "metadata": {},
          "execution_count": 16
        }
      ],
      "source": [
        "# We will use sklearn LinearRegression module!\n",
        "model = LinearRegression()  # create a linear regression model\n",
        "\n",
        "# we can use the method \".fit\" to fit the data\n",
        "model.fit(X_train, y_train)  # train the model"
      ]
    },
    {
      "cell_type": "code",
      "execution_count": null,
      "metadata": {
        "id": "VMWltMcADlpy",
        "colab": {
          "base_uri": "https://localhost:8080/"
        },
        "outputId": "09e7c05d-6f23-48bd-f5fe-97a699e74f9e"
      },
      "outputs": [
        {
          "output_type": "stream",
          "name": "stdout",
          "text": [
            "Estimated Slope:  [[10.2791884]]\n",
            "Estimated Intercept: [1.79798617]\n"
          ]
        }
      ],
      "source": [
        "# print fitting slope and intercept\n",
        "print(\"Estimated Slope: \", model.coef_)\n",
        "print(\"Estimated Intercept:\", model.intercept_)"
      ]
    },
    {
      "cell_type": "markdown",
      "source": [
        "### Investigating what does the function \".fit\" from the class \"LinearRegression\" do?\n",
        "\n",
        "* Recall from the class that the optimization problem has the following form:\n",
        "$$\n",
        "\\min_{w_0,w_1} \\mathcal{L}(w_0,w_1) = \\frac{1}{N} \\sum_{i=1}^N(w_0 + w_1 x_i - y_i)^2\n",
        "$$\n",
        "\n",
        "* We showed that the solution by taking the gradient and equating equal to zero has the following closed form solution for $w_0$ (intercept) and $w_1$ (slope) has the following form:\n",
        "\n",
        "\n",
        "$$\n",
        "\\begin{align*}\n",
        "& w_0 = \\bar{y} - w_1 \\bar{x}\\\\\n",
        "& w_1 = \\frac{\\sum_{i=1}^N(x_i - \\bar{x})(y_i - \\bar{y})}{\\sum_{i=1}^N(x_i - \\bar{x})^2}\n",
        "\\end{align*}\n",
        "$$\n",
        "\n",
        "where $\\bar{y} = \\frac{1}{N}\\sum_{y_i}$ and $\\bar{x} = \\frac{1}{N}\\sum_{i=1}^N x_i$.\n",
        "\n",
        "* Let us implement the solutions down below:\n",
        "\n"
      ],
      "metadata": {
        "id": "dWOKGR9fFI1q"
      }
    },
    {
      "cell_type": "code",
      "source": [
        "# TODO: let us compute first the average feature and average label\n",
        "bar_x = sum(X_train)/len(X_train)\n",
        "bar_y = sum(y_train)/len(y_train)\n",
        "\n",
        "# TODO: let us compute w_1; recall it is a division of two terms\n",
        "num = sum((x - bar_x) * (y - bar_y) for x, y in zip(X_train, y_train))\n",
        "den = sum((x-bar_x)**2 for x in X_train)\n",
        "w_1 = num/den\n",
        "\n",
        "# TODO: let us compute w_0;\n",
        "w_0 =bar_y - (w_1)*bar_x\n",
        "\n",
        "# print the results; how do they compare to the solutions from the LinearRegression() .fit function.\n",
        "print(w_1)\n",
        "print(w_0)"
      ],
      "metadata": {
        "id": "vaqtuccgD-sc",
        "colab": {
          "base_uri": "https://localhost:8080/"
        },
        "outputId": "f60c1957-57e8-4fe3-938a-c8cf3f3a86b4"
      },
      "execution_count": null,
      "outputs": [
        {
          "output_type": "stream",
          "name": "stdout",
          "text": [
            "[10.2791884]\n",
            "[1.79798617]\n"
          ]
        }
      ]
    },
    {
      "cell_type": "code",
      "execution_count": null,
      "metadata": {
        "id": "ftbBjJt8Dlpy",
        "colab": {
          "base_uri": "https://localhost:8080/"
        },
        "outputId": "5decb441-1397-4fe8-cf36-3fe81cc65456"
      },
      "outputs": [
        {
          "output_type": "stream",
          "name": "stdout",
          "text": [
            "Mean Squared Error: 1.8223525998736825\n"
          ]
        }
      ],
      "source": [
        "y_pred = model.predict(X_test)  # make predictions on the test set\n",
        "print('Mean Squared Error:', mean_squared_error(y_test, y_pred))  # calculate the mean squared error"
      ]
    },
    {
      "cell_type": "markdown",
      "source": [
        "### Investigating what does function \".predict\" from the class \"LinearRegression\" do?\n",
        "\n",
        "* Simply the .predict function applies and evalautes our linear model which is of the form\n",
        "$$\n",
        "f(x) = \\hat{y}(x) = w_0 + w_1x\n",
        "$$\n",
        "\n",
        "* In what follows, we will try and predict with the formula and with the preimplemented function\n"
      ],
      "metadata": {
        "id": "EfwrpCiRHfCk"
      }
    },
    {
      "cell_type": "code",
      "source": [
        "# TODO: select sample number to test has index of \"sample_number\"\n",
        "sample_number = 12\n",
        "\n",
        "# TODO: Extract the sample_number from your X_test dataset\n",
        "x_test = X_test[sample_number].reshape(1, -1)\n",
        "print(x_test.shape)\n",
        "\n",
        "# TODO: predict with .predict function\n",
        "prediction_with_fit = model.predict(x_test)\n",
        "print(f\"{prediction_with_fit}\")\n",
        "\n",
        "# TODO: predict with the linear function we have above (w_0 + w_1*x_test)\n",
        "prediction = w_0 + w_1*x_test\n",
        "print(prediction)"
      ],
      "metadata": {
        "id": "SethPQA5H6ne",
        "colab": {
          "base_uri": "https://localhost:8080/"
        },
        "outputId": "049e7de8-025b-43b5-b27c-4244f6566e56"
      },
      "execution_count": null,
      "outputs": [
        {
          "output_type": "stream",
          "name": "stdout",
          "text": [
            "(1, 1)\n",
            "[[7.2345967]]\n",
            "[[7.2345967]]\n"
          ]
        }
      ]
    },
    {
      "cell_type": "code",
      "execution_count": null,
      "metadata": {
        "id": "ilZon_xkDlpy",
        "colab": {
          "base_uri": "https://localhost:8080/",
          "height": 489
        },
        "outputId": "eb8b9594-3816-44dd-a322-4b3bc1e3cbf3"
      },
      "outputs": [
        {
          "output_type": "display_data",
          "data": {
            "text/plain": [
              "<Figure size 640x480 with 1 Axes>"
            ],
            "image/png": "[encoded data removed]"
          },
          "metadata": {}
        }
      ],
      "source": [
        "# TODO: Now visualzie the test data with parameters \"color ='r', label=\"Test Data\")\"\n",
        "plt.scatter(X_test, y_test, color='r', label=\"Test Data\", alpha=0.5)\n",
        "y_pred = model.predict(X_test)\n",
        "plt.scatter(X_test, y_pred, color='b', label=\"Predictions\", alpha=0.5)\n",
        "\n",
        "\n",
        "# TODO: Now visualzie the predicted plit with plt.scatter \"color ='b', label=\"predictions\")\"\n",
        "\n",
        "plt.xlabel('X')\n",
        "plt.ylabel('y')\n",
        "plt.legend()\n",
        "plt.title('Linear Regression Fit')\n",
        "plt.show()"
      ]
    },
    {
      "cell_type": "markdown",
      "metadata": {
        "id": "3jfV6z2zDlpy"
      },
      "source": [
        "### Wrapping the Solution"
      ]
    },
    {
      "cell_type": "code",
      "execution_count": null,
      "metadata": {
        "id": "8SBAkM3QDlpy"
      },
      "outputs": [],
      "source": [
        "def perform_linear_regression(X, y):\n",
        "    X_train, X_test, y_train, y_test = train_test_split(X, y, test_size=0.2, random_state=42)\n",
        "    model = LinearRegression()\n",
        "    model.fit(X_train, y_train)\n",
        "    y_pred = model.predict(X_test)\n",
        "    mse = mean_squared_error(y_test, y_pred)\n",
        "    return model, mse"
      ]
    },
    {
      "cell_type": "code",
      "execution_count": null,
      "metadata": {
        "id": "aQ8j8uSTDlpy",
        "colab": {
          "base_uri": "https://localhost:8080/"
        },
        "outputId": "fffc4055-7193-4adf-9376-bdcd82f47318"
      },
      "outputs": [
        {
          "output_type": "stream",
          "name": "stdout",
          "text": [
            "Mean Squared Error: 1.8223525998736825\n"
          ]
        }
      ],
      "source": [
        "model, mse = perform_linear_regression(X, y)\n",
        "print('Mean Squared Error:', mse)"
      ]
    },
    {
      "cell_type": "markdown",
      "metadata": {
        "id": "1s_gxCHODlpy"
      },
      "source": [
        "# Advanced: Polynomial Basis Regression"
      ]
    },
    {
      "cell_type": "markdown",
      "metadata": {
        "id": "O3Y5q_6TDlpz"
      },
      "source": [
        "<img src=\"https://i.ibb.co/XDR9G0c/wizard-6.png\" alt=\"Magic2\" width=\"500\"/>\n"
      ]
    },
    {
      "cell_type": "markdown",
      "metadata": {
        "id": "VCrpNsgmDlpz"
      },
      "source": [
        "## The Polynomial Basis Trick\n",
        "Earlier in class, we discussed how to extend linear regression into a non-linear variant based on a basis change trick.\n",
        "\n",
        "The \"polynomial trick\" is a technique used to capture more complex relationships in data without moving away from the simplicity of linear regression models.\n",
        "\n",
        "Let's consider a simple linear regression problem where we have one input feature `x` and one output `y`. If the relationship between `x` and `y` is not a straight line but rather a curve, a linear regression model of the form `y = ax + b` would not fit the data well.\n",
        "\n",
        "Here's where the polynomial trick comes in. Instead of trying to fit a line to the data, we can fit a polynomial, like `y = ax^2 + bx + c`. This is still a linear model in terms of its parameters `a`, `b`, and `c`, but it can capture a curved relationship between `x` and `y`.\n",
        "\n",
        "The trick is to create new features that are powers of `x`. For example, we can create a new feature `x^2`. Now our features are `[x, x^2]` and our model becomes `y = a1*x + a2*x^2 + b`. This is a linear model in terms of `a1`, `a2`, and `b`, but it's a polynomial model in terms of `x`.\n",
        "\n",
        "By introducing these higher-order terms, we can build more flexible models that can capture the nuances of the data more accurately. This forms the basis of Polynomial Regression, a technique that extends the simplicity of linear regression to fit more complex trends in the data."
      ]
    },
    {
      "cell_type": "markdown",
      "metadata": {
        "id": "2IoXOyiqDlpz"
      },
      "source": [
        "### Polynomial Trick: Import Libraries"
      ]
    },
    {
      "cell_type": "code",
      "execution_count": null,
      "metadata": {
        "id": "Fz3LaC-LDlpz"
      },
      "outputs": [],
      "source": [
        "# sklearn already has an implementation of the polynomial features we are looking for!\n",
        "from sklearn.preprocessing import PolynomialFeatures"
      ]
    },
    {
      "cell_type": "markdown",
      "metadata": {
        "id": "CWTdRINEDlpz"
      },
      "source": [
        "### Polynomial Trick: Creating non-linear relationship"
      ]
    },
    {
      "cell_type": "markdown",
      "metadata": {
        "id": "CvBXeHdVDlpz"
      },
      "source": [
        "We start off with our linear regression, what happens as we vary the degree?"
      ]
    },
    {
      "cell_type": "code",
      "execution_count": null,
      "metadata": {
        "id": "VGoXzToNDlpz"
      },
      "outputs": [],
      "source": [
        "# Let us regenerate our data but with a non-linear relation now!\n",
        "\n",
        "np.random.seed(0)  # for reproducibility\n",
        "\n",
        "# number of samples\n",
        "N = 20000\n",
        "\n",
        "# select parameters for the generated data and the noise\n",
        "slope = 10\n",
        "intercept = 2\n",
        "noise_scale = 0.5\n",
        "\n",
        "\n",
        "X = np.random.randn(N, 1)  # 100 random numbers\n",
        "\n",
        "# write a polynomial of degree 3 relating the of the form (slope*x^3 + intercept  + noise)\n",
        "y_without_noise = slope * X ** 3 + intercept\n",
        "\n",
        "# the cubic relation with some noisy measurments\n",
        "y = y_without_noise + noise_scale * np.random.randn(N, 1)  # linear relationship with some noise\n"
      ]
    },
    {
      "cell_type": "code",
      "source": [
        "#split your data into training (80%) and testing(20%);\n",
        "X_train, X_test, y_train, y_test = train_test_split(X, y, test_size=0.2, random_state=42)"
      ],
      "metadata": {
        "id": "H6FvcvlWo8_k"
      },
      "execution_count": null,
      "outputs": []
    },
    {
      "cell_type": "code",
      "execution_count": null,
      "metadata": {
        "id": "Lslx0cFvDlpz",
        "colab": {
          "base_uri": "https://localhost:8080/",
          "height": 489
        },
        "outputId": "e7f874f2-28da-4d12-d5bd-8c3ad43ffedc"
      },
      "outputs": [
        {
          "output_type": "display_data",
          "data": {
            "text/plain": [
              "<Figure size 640x480 with 1 Axes>"
            ],
            "image/png": "[encoded data removed]"
          },
          "metadata": {}
        }
      ],
      "source": [
        "# Generate a range of x values\n",
        "x_range = np.linspace(X.min(), X.max(), 100)\n",
        "\n",
        "# Calculate the corresponding y values without noise again\n",
        "y_range = 10 * x_range**3 + 2\n",
        "\n",
        "# Plot the original data and the fitted line\n",
        "plt.scatter(X, y, color ='b', alpha=0.5, label=\"Noisy Data\")\n",
        "plt.plot(x_range, y_range, color ='k', linestyle='--', linewidth=3, label=\"Original Line\")\n",
        "plt.xlabel('X')\n",
        "plt.ylabel('y')\n",
        "plt.legend()\n",
        "plt.title('Generated Data', fontweight='bold')\n",
        "plt.show()"
      ]
    },
    {
      "cell_type": "code",
      "source": [
        "# choose degree order\n",
        "degree = 0\n",
        "poly_features = PolynomialFeatures(degree=degree)\n",
        "\n",
        "# pick the first sample from your dataset X\n",
        "x_sample = X_train[0].reshape(1,1)\n",
        "print(x_sample)\n",
        "\n",
        "\n",
        "# generate all monomials for that polynomial; for example a degree 3 polynomial will have the monomials (x^0, x^1, x^2, x^3)\n",
        "x_sample_poly_filled = np.zeros((1,degree+1))\n",
        "for i in  range(degree+1):\n",
        "  #fill in the varaible x_sample_poly_filled with all monomials\n",
        "  pass\n",
        "print(x_sample_poly_filled)\n",
        "\n",
        "# the function poly_features.fit_transform(X) generates all high order terms in the polynomial\n",
        "x_sample_poly = poly_features.fit_transform(x_sample)\n",
        "print(x_sample_poly)"
      ],
      "metadata": {
        "id": "YcS_XYGZwXZs",
        "colab": {
          "base_uri": "https://localhost:8080/"
        },
        "outputId": "ca95a7da-51f8-4a38-a4b0-5f9edbc7a788"
      },
      "execution_count": null,
      "outputs": [
        {
          "output_type": "stream",
          "name": "stdout",
          "text": [
            "[[2.4653965]]\n",
            "[[0.]]\n",
            "[[1.]]\n"
          ]
        }
      ]
    },
    {
      "cell_type": "markdown",
      "source": [
        "### Investigating what does the function \".fit\" from the class \"LinearRegression\" do?\n",
        "\n",
        "* Recall from the class that the optimization problem has the following form where we have the data in the case of 3rd order poylomial with linear regression to be as follows\n",
        "$$\n",
        "\\min_{w_0,w_1,w_2,w_3} \\mathcal{L}(w_0,w_1,w_2,w_3) = \\frac{1}{N} \\sum_{i=1}^N(w_0 + w_1 x_i + w_2 x_i^2 + w_3 x_i^3 - y_i)^2\n",
        "$$\n",
        "\n",
        "* We have to solve the following set of equations for all the model parameters\n",
        "\n",
        "$$\n",
        "\\begin{align*}\n",
        "& \\frac{2}{N} \\sum_{i=1}^N (w_0 + w_1 x_i + w_2 x_i^2 + w_3 x_i^3 - y_i) = 0 \\\\\n",
        "& \\frac{2}{N} \\sum_{i=1}^N (w_0 + w_1 x_i + w_2 x_i^2 + w_3 x_i^3 - y_i)x_i = 0 \\\\\n",
        "& \\frac{2}{N} \\sum_{i=1}^N (w_0 + w_1 x_i + w_2 x_i^2 + w_3 x_i^3 - y_i)x_i^2 = 0 \\\\\n",
        "& \\frac{2}{N} \\sum_{i=1}^N (w_0 + w_1 x_i + w_2 x_i^2 + w_3 x_i^3 - y_i)x_i^3 = 0 \\\\\n",
        "\\end{align*}\n",
        "$$\n",
        "\n",
        "* This might be difficult to do (it is possible if you think of linear algebra), but we have a function that solves this problem for us which is (model.fit(X_train, y_train))\n",
        "\n",
        "* Let us implement the solutions down below"
      ],
      "metadata": {
        "id": "1TsOMO98ws-p"
      }
    },
    {
      "cell_type": "code",
      "source": [
        "degree = 3\n",
        "poly_features = PolynomialFeatures(degree=degree)\n",
        "\n",
        "# generate the polynomials over the full dataset X without a for loop\n",
        "X_poly = poly_features.fit_transform(X)\n",
        "\n",
        "\n",
        "model = LinearRegression()\n",
        "# fit the polynomial data X_poly to your labels y (Recall use model.fit)\n",
        "model.fit(X_poly, y)"
      ],
      "metadata": {
        "id": "aaiZrQjH0LS0",
        "colab": {
          "base_uri": "https://localhost:8080/",
          "height": 80
        },
        "outputId": "2d319766-7300-432c-911b-4f0dbe948af1"
      },
      "execution_count": null,
      "outputs": [
        {
          "output_type": "execute_result",
          "data": {
            "text/plain": [
              "LinearRegression()"
            ],
            "text/html": [
              "<style>#sk-container-id-2 {\n",
              "  /* Definition of color scheme common for light and dark mode */\n",
              "  --sklearn-color-text: #000;\n",
              "  --sklearn-color-text-muted: #666;\n",
              "  --sklearn-color-line: gray;\n",
              "  /* Definition of color scheme for unfitted estimators */\n",
              "  --sklearn-color-unfitted-level-0: #fff5e6;\n",
              "  --sklearn-color-unfitted-level-1: #f6e4d2;\n",
              "  --sklearn-color-unfitted-level-2: #ffe0b3;\n",
              "  --sklearn-color-unfitted-level-3: chocolate;\n",
              "  /* Definition of color scheme for fitted estimators */\n",
              "  --sklearn-color-fitted-level-0: #f0f8ff;\n",
              "  --sklearn-color-fitted-level-1: #d4ebff;\n",
              "  --sklearn-color-fitted-level-2: #b3dbfd;\n",
              "  --sklearn-color-fitted-level-3: cornflowerblue;\n",
              "\n",
              "  /* Specific color for light theme */\n",
              "  --sklearn-color-text-on-default-background: var(--sg-text-color, var(--theme-code-foreground, var(--jp-content-font-color1, black)));\n",
              "  --sklearn-color-background: var(--sg-background-color, var(--theme-background, var(--jp-layout-color0, white)));\n",
              "  --sklearn-color-border-box: var(--sg-text-color, var(--theme-code-foreground, var(--jp-content-font-color1, black)));\n",
              "  --sklearn-color-icon: #696969;\n",
              "\n",
              "  @media (prefers-color-scheme: dark) {\n",
              "    /* Redefinition of color scheme for dark theme */\n",
              "    --sklearn-color-text-on-default-background: var(--sg-text-color, var(--theme-code-foreground, var(--jp-content-font-color1, white)));\n",
              "    --sklearn-color-background: var(--sg-background-color, var(--theme-background, var(--jp-layout-color0, #111)));\n",
              "    --sklearn-color-border-box: var(--sg-text-color, var(--theme-code-foreground, var(--jp-content-font-color1, white)));\n",
              "    --sklearn-color-icon: #878787;\n",
              "  }\n",
              "}\n",
              "\n",
              "#sk-container-id-2 {\n",
              "  color: var(--sklearn-color-text);\n",
              "}\n",
              "\n",
              "#sk-container-id-2 pre {\n",
              "  padding: 0;\n",
              "}\n",
              "\n",
              "#sk-container-id-2 input.sk-hidden--visually {\n",
              "  border: 0;\n",
              "  clip: rect(1px 1px 1px 1px);\n",
              "  clip: rect(1px, 1px, 1px, 1px);\n",
              "  height: 1px;\n",
              "  margin: -1px;\n",
              "  overflow: hidden;\n",
              "  padding: 0;\n",
              "  position: absolute;\n",
              "  width: 1px;\n",
              "}\n",
              "\n",
              "#sk-container-id-2 div.sk-dashed-wrapped {\n",
              "  border: 1px dashed var(--sklearn-color-line);\n",
              "  margin: 0 0.4em 0.5em 0.4em;\n",
              "  box-sizing: border-box;\n",
              "  padding-bottom: 0.4em;\n",
              "  background-color: var(--sklearn-color-background);\n",
              "}\n",
              "\n",
              "#sk-container-id-2 div.sk-container {\n",
              "  /* jupyter's `normalize.less` sets `[hidden] { display: none; }`\n",
              "     but bootstrap.min.css set `[hidden] { display: none !important; }`\n",
              "     so we also need the `!important` here to be able to override the\n",
              "     default hidden behavior on the sphinx rendered scikit-learn.org.\n",
              "     See: https://github.com/scikit-learn/scikit-learn/issues/21755 */\n",
              "  display: inline-block !important;\n",
              "  position: relative;\n",
              "}\n",
              "\n",
              "#sk-container-id-2 div.sk-text-repr-fallback {\n",
              "  display: none;\n",
              "}\n",
              "\n",
              "div.sk-parallel-item,\n",
              "div.sk-serial,\n",
              "div.sk-item {\n",
              "  /* draw centered vertical line to link estimators */\n",
              "  background-image: linear-gradient(var(--sklearn-color-text-on-default-background), var(--sklearn-color-text-on-default-background));\n",
              "  background-size: 2px 100%;\n",
              "  background-repeat: no-repeat;\n",
              "  background-position: center center;\n",
              "}\n",
              "\n",
              "/* Parallel-specific style estimator block */\n",
              "\n",
              "#sk-container-id-2 div.sk-parallel-item::after {\n",
              "  content: \"\";\n",
              "  width: 100%;\n",
              "  border-bottom: 2px solid var(--sklearn-color-text-on-default-background);\n",
              "  flex-grow: 1;\n",
              "}\n",
              "\n",
              "#sk-container-id-2 div.sk-parallel {\n",
              "  display: flex;\n",
              "  align-items: stretch;\n",
              "  justify-content: center;\n",
              "  background-color: var(--sklearn-color-background);\n",
              "  position: relative;\n",
              "}\n",
              "\n",
              "#sk-container-id-2 div.sk-parallel-item {\n",
              "  display: flex;\n",
              "  flex-direction: column;\n",
              "}\n",
              "\n",
              "#sk-container-id-2 div.sk-parallel-item:first-child::after {\n",
              "  align-self: flex-end;\n",
              "  width: 50%;\n",
              "}\n",
              "\n",
              "#sk-container-id-2 div.sk-parallel-item:last-child::after {\n",
              "  align-self: flex-start;\n",
              "  width: 50%;\n",
              "}\n",
              "\n",
              "#sk-container-id-2 div.sk-parallel-item:only-child::after {\n",
              "  width: 0;\n",
              "}\n",
              "\n",
              "/* Serial-specific style estimator block */\n",
              "\n",
              "#sk-container-id-2 div.sk-serial {\n",
              "  display: flex;\n",
              "  flex-direction: column;\n",
              "  align-items: center;\n",
              "  background-color: var(--sklearn-color-background);\n",
              "  padding-right: 1em;\n",
              "  padding-left: 1em;\n",
              "}\n",
              "\n",
              "\n",
              "/* Toggleable style: style used for estimator/Pipeline/ColumnTransformer box that is\n",
              "clickable and can be expanded/collapsed.\n",
              "- Pipeline and ColumnTransformer use this feature and define the default style\n",
              "- Estimators will overwrite some part of the style using the `sk-estimator` class\n",
              "*/\n",
              "\n",
              "/* Pipeline and ColumnTransformer style (default) */\n",
              "\n",
              "#sk-container-id-2 div.sk-toggleable {\n",
              "  /* Default theme specific background. It is overwritten whether we have a\n",
              "  specific estimator or a Pipeline/ColumnTransformer */\n",
              "  background-color: var(--sklearn-color-background);\n",
              "}\n",
              "\n",
              "/* Toggleable label */\n",
              "#sk-container-id-2 label.sk-toggleable__label {\n",
              "  cursor: pointer;\n",
              "  display: flex;\n",
              "  width: 100%;\n",
              "  margin-bottom: 0;\n",
              "  padding: 0.5em;\n",
              "  box-sizing: border-box;\n",
              "  text-align: center;\n",
              "  align-items: start;\n",
              "  justify-content: space-between;\n",
              "  gap: 0.5em;\n",
              "}\n",
              "\n",
              "#sk-container-id-2 label.sk-toggleable__label .caption {\n",
              "  font-size: 0.6rem;\n",
              "  font-weight: lighter;\n",
              "  color: var(--sklearn-color-text-muted);\n",
              "}\n",
              "\n",
              "#sk-container-id-2 label.sk-toggleable__label-arrow:before {\n",
              "  /* Arrow on the left of the label */\n",
              "  content: \"▸\";\n",
              "  float: left;\n",
              "  margin-right: 0.25em;\n",
              "  color: var(--sklearn-color-icon);\n",
              "}\n",
              "\n",
              "#sk-container-id-2 label.sk-toggleable__label-arrow:hover:before {\n",
              "  color: var(--sklearn-color-text);\n",
              "}\n",
              "\n",
              "/* Toggleable content - dropdown */\n",
              "\n",
              "#sk-container-id-2 div.sk-toggleable__content {\n",
              "  max-height: 0;\n",
              "  max-width: 0;\n",
              "  overflow: hidden;\n",
              "  text-align: left;\n",
              "  /* unfitted */\n",
              "  background-color: var(--sklearn-color-unfitted-level-0);\n",
              "}\n",
              "\n",
              "#sk-container-id-2 div.sk-toggleable__content.fitted {\n",
              "  /* fitted */\n",
              "  background-color: var(--sklearn-color-fitted-level-0);\n",
              "}\n",
              "\n",
              "#sk-container-id-2 div.sk-toggleable__content pre {\n",
              "  margin: 0.2em;\n",
              "  border-radius: 0.25em;\n",
              "  color: var(--sklearn-color-text);\n",
              "  /* unfitted */\n",
              "  background-color: var(--sklearn-color-unfitted-level-0);\n",
              "}\n",
              "\n",
              "#sk-container-id-2 div.sk-toggleable__content.fitted pre {\n",
              "  /* unfitted */\n",
              "  background-color: var(--sklearn-color-fitted-level-0);\n",
              "}\n",
              "\n",
              "#sk-container-id-2 input.sk-toggleable__control:checked~div.sk-toggleable__content {\n",
              "  /* Expand drop-down */\n",
              "  max-height: 200px;\n",
              "  max-width: 100%;\n",
              "  overflow: auto;\n",
              "}\n",
              "\n",
              "#sk-container-id-2 input.sk-toggleable__control:checked~label.sk-toggleable__label-arrow:before {\n",
              "  content: \"▾\";\n",
              "}\n",
              "\n",
              "/* Pipeline/ColumnTransformer-specific style */\n",
              "\n",
              "#sk-container-id-2 div.sk-label input.sk-toggleable__control:checked~label.sk-toggleable__label {\n",
              "  color: var(--sklearn-color-text);\n",
              "  background-color: var(--sklearn-color-unfitted-level-2);\n",
              "}\n",
              "\n",
              "#sk-container-id-2 div.sk-label.fitted input.sk-toggleable__control:checked~label.sk-toggleable__label {\n",
              "  background-color: var(--sklearn-color-fitted-level-2);\n",
              "}\n",
              "\n",
              "/* Estimator-specific style */\n",
              "\n",
              "/* Colorize estimator box */\n",
              "#sk-container-id-2 div.sk-estimator input.sk-toggleable__control:checked~label.sk-toggleable__label {\n",
              "  /* unfitted */\n",
              "  background-color: var(--sklearn-color-unfitted-level-2);\n",
              "}\n",
              "\n",
              "#sk-container-id-2 div.sk-estimator.fitted input.sk-toggleable__control:checked~label.sk-toggleable__label {\n",
              "  /* fitted */\n",
              "  background-color: var(--sklearn-color-fitted-level-2);\n",
              "}\n",
              "\n",
              "#sk-container-id-2 div.sk-label label.sk-toggleable__label,\n",
              "#sk-container-id-2 div.sk-label label {\n",
              "  /* The background is the default theme color */\n",
              "  color: var(--sklearn-color-text-on-default-background);\n",
              "}\n",
              "\n",
              "/* On hover, darken the color of the background */\n",
              "#sk-container-id-2 div.sk-label:hover label.sk-toggleable__label {\n",
              "  color: var(--sklearn-color-text);\n",
              "  background-color: var(--sklearn-color-unfitted-level-2);\n",
              "}\n",
              "\n",
              "/* Label box, darken color on hover, fitted */\n",
              "#sk-container-id-2 div.sk-label.fitted:hover label.sk-toggleable__label.fitted {\n",
              "  color: var(--sklearn-color-text);\n",
              "  background-color: var(--sklearn-color-fitted-level-2);\n",
              "}\n",
              "\n",
              "/* Estimator label */\n",
              "\n",
              "#sk-container-id-2 div.sk-label label {\n",
              "  font-family: monospace;\n",
              "  font-weight: bold;\n",
              "  display: inline-block;\n",
              "  line-height: 1.2em;\n",
              "}\n",
              "\n",
              "#sk-container-id-2 div.sk-label-container {\n",
              "  text-align: center;\n",
              "}\n",
              "\n",
              "/* Estimator-specific */\n",
              "#sk-container-id-2 div.sk-estimator {\n",
              "  font-family: monospace;\n",
              "  border: 1px dotted var(--sklearn-color-border-box);\n",
              "  border-radius: 0.25em;\n",
              "  box-sizing: border-box;\n",
              "  margin-bottom: 0.5em;\n",
              "  /* unfitted */\n",
              "  background-color: var(--sklearn-color-unfitted-level-0);\n",
              "}\n",
              "\n",
              "#sk-container-id-2 div.sk-estimator.fitted {\n",
              "  /* fitted */\n",
              "  background-color: var(--sklearn-color-fitted-level-0);\n",
              "}\n",
              "\n",
              "/* on hover */\n",
              "#sk-container-id-2 div.sk-estimator:hover {\n",
              "  /* unfitted */\n",
              "  background-color: var(--sklearn-color-unfitted-level-2);\n",
              "}\n",
              "\n",
              "#sk-container-id-2 div.sk-estimator.fitted:hover {\n",
              "  /* fitted */\n",
              "  background-color: var(--sklearn-color-fitted-level-2);\n",
              "}\n",
              "\n",
              "/* Specification for estimator info (e.g. \"i\" and \"?\") */\n",
              "\n",
              "/* Common style for \"i\" and \"?\" */\n",
              "\n",
              ".sk-estimator-doc-link,\n",
              "a:link.sk-estimator-doc-link,\n",
              "a:visited.sk-estimator-doc-link {\n",
              "  float: right;\n",
              "  font-size: smaller;\n",
              "  line-height: 1em;\n",
              "  font-family: monospace;\n",
              "  background-color: var(--sklearn-color-background);\n",
              "  border-radius: 1em;\n",
              "  height: 1em;\n",
              "  width: 1em;\n",
              "  text-decoration: none !important;\n",
              "  margin-left: 0.5em;\n",
              "  text-align: center;\n",
              "  /* unfitted */\n",
              "  border: var(--sklearn-color-unfitted-level-1) 1pt solid;\n",
              "  color: var(--sklearn-color-unfitted-level-1);\n",
              "}\n",
              "\n",
              ".sk-estimator-doc-link.fitted,\n",
              "a:link.sk-estimator-doc-link.fitted,\n",
              "a:visited.sk-estimator-doc-link.fitted {\n",
              "  /* fitted */\n",
              "  border: var(--sklearn-color-fitted-level-1) 1pt solid;\n",
              "  color: var(--sklearn-color-fitted-level-1);\n",
              "}\n",
              "\n",
              "/* On hover */\n",
              "div.sk-estimator:hover .sk-estimator-doc-link:hover,\n",
              ".sk-estimator-doc-link:hover,\n",
              "div.sk-label-container:hover .sk-estimator-doc-link:hover,\n",
              ".sk-estimator-doc-link:hover {\n",
              "  /* unfitted */\n",
              "  background-color: var(--sklearn-color-unfitted-level-3);\n",
              "  color: var(--sklearn-color-background);\n",
              "  text-decoration: none;\n",
              "}\n",
              "\n",
              "div.sk-estimator.fitted:hover .sk-estimator-doc-link.fitted:hover,\n",
              ".sk-estimator-doc-link.fitted:hover,\n",
              "div.sk-label-container:hover .sk-estimator-doc-link.fitted:hover,\n",
              ".sk-estimator-doc-link.fitted:hover {\n",
              "  /* fitted */\n",
              "  background-color: var(--sklearn-color-fitted-level-3);\n",
              "  color: var(--sklearn-color-background);\n",
              "  text-decoration: none;\n",
              "}\n",
              "\n",
              "/* Span, style for the box shown on hovering the info icon */\n",
              ".sk-estimator-doc-link span {\n",
              "  display: none;\n",
              "  z-index: 9999;\n",
              "  position: relative;\n",
              "  font-weight: normal;\n",
              "  right: .2ex;\n",
              "  padding: .5ex;\n",
              "  margin: .5ex;\n",
              "  width: min-content;\n",
              "  min-width: 20ex;\n",
              "  max-width: 50ex;\n",
              "  color: var(--sklearn-color-text);\n",
              "  box-shadow: 2pt 2pt 4pt #999;\n",
              "  /* unfitted */\n",
              "  background: var(--sklearn-color-unfitted-level-0);\n",
              "  border: .5pt solid var(--sklearn-color-unfitted-level-3);\n",
              "}\n",
              "\n",
              ".sk-estimator-doc-link.fitted span {\n",
              "  /* fitted */\n",
              "  background: var(--sklearn-color-fitted-level-0);\n",
              "  border: var(--sklearn-color-fitted-level-3);\n",
              "}\n",
              "\n",
              ".sk-estimator-doc-link:hover span {\n",
              "  display: block;\n",
              "}\n",
              "\n",
              "/* \"?\"-specific style due to the `<a>` HTML tag */\n",
              "\n",
              "#sk-container-id-2 a.estimator_doc_link {\n",
              "  float: right;\n",
              "  font-size: 1rem;\n",
              "  line-height: 1em;\n",
              "  font-family: monospace;\n",
              "  background-color: var(--sklearn-color-background);\n",
              "  border-radius: 1rem;\n",
              "  height: 1rem;\n",
              "  width: 1rem;\n",
              "  text-decoration: none;\n",
              "  /* unfitted */\n",
              "  color: var(--sklearn-color-unfitted-level-1);\n",
              "  border: var(--sklearn-color-unfitted-level-1) 1pt solid;\n",
              "}\n",
              "\n",
              "#sk-container-id-2 a.estimator_doc_link.fitted {\n",
              "  /* fitted */\n",
              "  border: var(--sklearn-color-fitted-level-1) 1pt solid;\n",
              "  color: var(--sklearn-color-fitted-level-1);\n",
              "}\n",
              "\n",
              "/* On hover */\n",
              "#sk-container-id-2 a.estimator_doc_link:hover {\n",
              "  /* unfitted */\n",
              "  background-color: var(--sklearn-color-unfitted-level-3);\n",
              "  color: var(--sklearn-color-background);\n",
              "  text-decoration: none;\n",
              "}\n",
              "\n",
              "#sk-container-id-2 a.estimator_doc_link.fitted:hover {\n",
              "  /* fitted */\n",
              "  background-color: var(--sklearn-color-fitted-level-3);\n",
              "}\n",
              "</style><div id=\"sk-container-id-2\" class=\"sk-top-container\"><div class=\"sk-text-repr-fallback\"><pre>LinearRegression()</pre><b>In a Jupyter environment, please rerun this cell to show the HTML representation or trust the notebook. <br />On GitHub, the HTML representation is unable to render, please try loading this page with nbviewer.org.</b></div><div class=\"sk-container\" hidden><div class=\"sk-item\"><div class=\"sk-estimator fitted sk-toggleable\"><input class=\"sk-toggleable__control sk-hidden--visually\" id=\"sk-estimator-id-2\" type=\"checkbox\" checked><label for=\"sk-estimator-id-2\" class=\"sk-toggleable__label fitted sk-toggleable__label-arrow\"><div><div>LinearRegression</div></div><div><a class=\"sk-estimator-doc-link fitted\" rel=\"noreferrer\" target=\"_blank\" href=\"https://scikit-learn.org/1.6/modules/generated/sklearn.linear_model.LinearRegression.html\">?<span>Documentation for LinearRegression</span></a><span class=\"sk-estimator-doc-link fitted\">i<span>Fitted</span></span></div></label><div class=\"sk-toggleable__content fitted\"><pre>LinearRegression()</pre></div> </div></div></div></div>"
            ]
          },
          "metadata": {},
          "execution_count": 29
        }
      ]
    },
    {
      "cell_type": "code",
      "source": [
        "# print the coefficients and intercept\n",
        "print(model.coef_)\n",
        "print(model.intercept_)"
      ],
      "metadata": {
        "id": "WWG_X1LP0gC5",
        "colab": {
          "base_uri": "https://localhost:8080/"
        },
        "outputId": "a7c541a1-b3ab-4ed1-efc6-3c9eb2d13c10"
      },
      "execution_count": null,
      "outputs": [
        {
          "output_type": "stream",
          "name": "stdout",
          "text": [
            "[[ 0.00000000e+00  1.28495901e-02 -2.05719988e-04  9.99733644e+00]]\n",
            "[1.99836943]\n"
          ]
        }
      ]
    },
    {
      "cell_type": "markdown",
      "source": [
        "### How does prediction work?\n",
        "* Simply the coefficients in model represent w_1, w_2, and w_3 the first element is always zero as it represents the intercept anyways\n",
        "* the intercept represents w_0"
      ],
      "metadata": {
        "id": "KMp8Mdy-0iH-"
      }
    },
    {
      "cell_type": "code",
      "source": [
        "x_test = np.array([2]).reshape(1,1)\n",
        "\n",
        "# generate the polynomials of this test sample (x_test)\n",
        "x_test_poly = poly_features.transform(x_test)\n",
        "print(x_test_poly)\n",
        "\n",
        "# predict using model.predict\n",
        "model_predict_of_x_test = model.predict(x_test_poly)\n",
        "print(model_predict_of_x_test)\n",
        "\n",
        "# predict directly by writing the equation w_0 + w_1 x + w_2 x^2 + w_3 x^3\n",
        "w0 = model.intercept_[0]\n",
        "w1, w2, w3 = model.coef_[0][1], model.coef_[0][2], model.coef_[0][3]\n",
        "x = x_test[0][0]\n",
        "model_predict_explicit_formula = w0 + w1 * x + w2 * x**2 + w3 * x**3\n",
        "print(model_predict_explicit_formula)"
      ],
      "metadata": {
        "id": "XnOfOaCq0kzM",
        "colab": {
          "base_uri": "https://localhost:8080/"
        },
        "outputId": "ba7a68f2-7d91-4b40-d975-9e2b5623d2f8"
      },
      "execution_count": null,
      "outputs": [
        {
          "output_type": "stream",
          "name": "stdout",
          "text": [
            "[[1. 2. 4. 8.]]\n",
            "[[82.00193725]]\n",
            "82.00193725465861\n"
          ]
        }
      ]
    },
    {
      "cell_type": "code",
      "execution_count": null,
      "metadata": {
        "id": "hMFUePCWDlpz"
      },
      "outputs": [],
      "source": [
        "def perform_linear_regression_with_poly(X, y, degree):\n",
        "    poly_features = PolynomialFeatures(degree=degree)\n",
        "    X_poly = poly_features.fit_transform(X)\n",
        "    X_train, X_test, y_train, y_test = train_test_split(X_poly, y, test_size=0.2, random_state=42)\n",
        "    model = LinearRegression()\n",
        "    model.fit(X_train, y_train)\n",
        "    y_train_pred = model.predict(X_train)\n",
        "    y_test_pred = model.predict(X_test)\n",
        "    mse_train = mean_squared_error(y_train, y_train_pred)\n",
        "    mse_test = mean_squared_error(y_test, y_test_pred)\n",
        "    return model, mse_train, mse_test, y_train_pred, y_test_pred"
      ]
    },
    {
      "cell_type": "markdown",
      "metadata": {
        "id": "_xwOWYzCDlpz"
      },
      "source": [
        "We will collect the MSE loss for different degrees of our polynomial fitting and then visualize the MSE loss."
      ]
    },
    {
      "cell_type": "code",
      "execution_count": null,
      "metadata": {
        "id": "Q2KkPyXwDlpz",
        "colab": {
          "base_uri": "https://localhost:8080/",
          "height": 489
        },
        "outputId": "bcde4e75-6862-455e-b131-1ee48d276387"
      },
      "outputs": [
        {
          "output_type": "display_data",
          "data": {
            "text/plain": [
              "<Figure size 640x480 with 1 Axes>"
            ],
            "image/png": "[encoded data removed]"
          },
          "metadata": {}
        }
      ],
      "source": [
        "# List to store the Mean Squared Errors (MSE) for the training and testing sets\n",
        "mse_train_list = list()\n",
        "mse_test_list = list()\n",
        "\n",
        "# Range of polynomial degrees to consider\n",
        "degrees = range(20)\n",
        "\n",
        "# Perform linear regression with polynomial basis for each degree and store the MSE\n",
        "for degree in degrees:\n",
        "    _, mse_train, mse_test,_, _ = perform_linear_regression_with_poly(X, y, degree=degree)\n",
        "    mse_train_list.append(mse_train)\n",
        "    mse_test_list.append(mse_test)\n",
        "\n",
        "# Plot the MSE for the training and testing sets\n",
        "plt.plot(degrees, mse_train_list, label=\"Train Loss\", marker='o')\n",
        "plt.plot(degrees, mse_test_list, label=\"Test Loss\", marker='o')\n",
        "plt.legend(loc='best')\n",
        "plt.xlabel(\"Degree of Polynomial\")\n",
        "plt.ylabel(\"Mean Squared Error\")\n",
        "plt.title(\"Train and Test Loss for Different Polynomial Degrees\")\n",
        "plt.grid(True)\n",
        "plt.show()"
      ]
    },
    {
      "cell_type": "code",
      "execution_count": null,
      "metadata": {
        "id": "C6WWjUoaDlpz",
        "colab": {
          "base_uri": "https://localhost:8080/",
          "height": 592
        },
        "outputId": "477c8fef-0f0e-455f-b40a-307daa99d290"
      },
      "outputs": [
        {
          "output_type": "display_data",
          "data": {
            "text/plain": [
              "<Figure size 1200x600 with 2 Axes>"
            ],
            "image/png": "[encoded data removed]"
          },
          "metadata": {}
        }
      ],
      "source": [
        "# Create subplots with 1 row and 2 columns\n",
        "fig, axs = plt.subplots(1, 2, figsize=(12, 6))\n",
        "\n",
        "# Subplot 1: Degree 3\n",
        "model, mse_train, mse_test, y_train_pred, y_test_pred = perform_linear_regression_with_poly(X, y, degree=3)\n",
        "axs[0].scatter(X_train, y_train_pred, color='b', label=\"Predicted Fit\", alpha=0.1)\n",
        "axs[0].set_xlabel('X')\n",
        "axs[0].set_ylabel('y')\n",
        "axs[0].legend()\n",
        "axs[0].set_title('Degree 3')\n",
        "\n",
        "# Subplot 2: Degree 15\n",
        "model, mse_train, mse_test, y_train_pred, y_test_pred = perform_linear_regression_with_poly(X, y, degree=20)\n",
        "axs[1].scatter(X_train, y_train_pred, color='r', label=\"Predicted Fit\", alpha=0.1)\n",
        "axs[1].set_xlabel('X')\n",
        "axs[1].set_ylabel('y')\n",
        "axs[1].legend()\n",
        "axs[1].set_title('Degree 20')\n",
        "\n",
        "# Adjust spacing between subplots\n",
        "plt.tight_layout()\n",
        "\n",
        "# Show the figure with subplots\n",
        "plt.show()"
      ]
    },
    {
      "cell_type": "markdown",
      "metadata": {
        "id": "NL72lgniDlpz"
      },
      "source": [
        "### Oh! What's happening over here?? Overfitting 😒 You should always be smart about the choice of fitting degree!"
      ]
    },
    {
      "cell_type": "markdown",
      "metadata": {
        "id": "z8sN1QQfDlpz"
      },
      "source": [
        "<img src=\"https://i.ibb.co/dbZKB6d/wizard-5.png\" alt=\"Predicted Fit\" width=\"400\"/>\n"
      ]
    }
  ],
  "metadata": {
    "kernelspec": {
      "display_name": "Python 3",
      "language": "python",
      "name": "python3"
    },
    "language_info": {
      "codemirror_mode": {
        "name": "ipython",
        "version": 3
      },
      "file_extension": ".py",
      "mimetype": "text/x-python",
      "name": "python",
      "nbconvert_exporter": "python",
      "pygments_lexer": "ipython3",
      "version": "3.8.5"
    },
    "colab": {
      "provenance": [],
      "include_colab_link": true
    },
    "widgets": {
      "application/vnd.jupyter.widget-state+json": {
        "c9f26e3d7e5a45559ec5f6012399d328": {
          "model_module": "@jupyter-widgets/controls",
          "model_name": "VBoxModel",
          "model_module_version": "1.5.0",
          "state": {
            "_dom_classes": [
              "widget-interact"
            ],
            "_model_module": "@jupyter-widgets/controls",
            "_model_module_version": "1.5.0",
            "_model_name": "VBoxModel",
            "_view_count": null,
            "_view_module": "@jupyter-widgets/controls",
            "_view_module_version": "1.5.0",
            "_view_name": "VBoxView",
            "box_style": "",
            "children": [
              "IPY_MODEL_19ff56af05424903bdcffeb5d6fb3e17",
              "IPY_MODEL_e71dfa206d7240919352ca89b4be687d",
              "IPY_MODEL_4596b05465dc41ea9c6dfce2e2e03005"
            ],
            "layout": "IPY_MODEL_76e9b3aaf1604d659591f557aa50fbb6"
          }
        },
        "19ff56af05424903bdcffeb5d6fb3e17": {
          "model_module": "@jupyter-widgets/controls",
          "model_name": "FloatSliderModel",
          "model_module_version": "1.5.0",
          "state": {
            "_dom_classes": [],
            "_model_module": "@jupyter-widgets/controls",
            "_model_module_version": "1.5.0",
            "_model_name": "FloatSliderModel",
            "_view_count": null,
            "_view_module": "@jupyter-widgets/controls",
            "_view_module_version": "1.5.0",
            "_view_name": "FloatSliderView",
            "continuous_update": true,
            "description": "Slope:",
            "description_tooltip": null,
            "disabled": false,
            "layout": "IPY_MODEL_611a90c5a8034945aa0012a3c0b67cac",
            "max": 20,
            "min": -20,
            "orientation": "horizontal",
            "readout": true,
            "readout_format": ".2f",
            "step": 0.5,
            "style": "IPY_MODEL_c7876fffd9c7400fb5af0a9392f92058",
            "value": 0
          }
        },
        "e71dfa206d7240919352ca89b4be687d": {
          "model_module": "@jupyter-widgets/controls",
          "model_name": "FloatSliderModel",
          "model_module_version": "1.5.0",
          "state": {
            "_dom_classes": [],
            "_model_module": "@jupyter-widgets/controls",
            "_model_module_version": "1.5.0",
            "_model_name": "FloatSliderModel",
            "_view_count": null,
            "_view_module": "@jupyter-widgets/controls",
            "_view_module_version": "1.5.0",
            "_view_name": "FloatSliderView",
            "continuous_update": true,
            "description": "Intercept:",
            "description_tooltip": null,
            "disabled": false,
            "layout": "IPY_MODEL_52a7718fad0346228bed93086dc2d0c0",
            "max": 10,
            "min": -10,
            "orientation": "horizontal",
            "readout": true,
            "readout_format": ".2f",
            "step": 0.1,
            "style": "IPY_MODEL_10ef700b05fb48a69b7e9c130542e987",
            "value": 0
          }
        },
        "4596b05465dc41ea9c6dfce2e2e03005": {
          "model_module": "@jupyter-widgets/output",
          "model_name": "OutputModel",
          "model_module_version": "1.0.0",
          "state": {
            "_dom_classes": [],
            "_model_module": "@jupyter-widgets/output",
            "_model_module_version": "1.0.0",
            "_model_name": "OutputModel",
            "_view_count": null,
            "_view_module": "@jupyter-widgets/output",
            "_view_module_version": "1.0.0",
            "_view_name": "OutputView",
            "layout": "IPY_MODEL_87bd1825dd694cf5b0ca72a157a9a0f3",
            "msg_id": "",
            "outputs": [
              {
                "output_type": "display_data",
                "data": {
                  "text/plain": "<Figure size 640x480 with 1 Axes>",
                  "image/png": "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\n"
                },
                "metadata": {}
              }
            ]
          }
        },
        "76e9b3aaf1604d659591f557aa50fbb6": {
          "model_module": "@jupyter-widgets/base",
          "model_name": "LayoutModel",
          "model_module_version": "1.2.0",
          "state": {
            "_model_module": "@jupyter-widgets/base",
            "_model_module_version": "1.2.0",
            "_model_name": "LayoutModel",
            "_view_count": null,
            "_view_module": "@jupyter-widgets/base",
            "_view_module_version": "1.2.0",
            "_view_name": "LayoutView",
            "align_content": null,
            "align_items": null,
            "align_self": null,
            "border": null,
            "bottom": null,
            "display": null,
            "flex": null,
            "flex_flow": null,
            "grid_area": null,
            "grid_auto_columns": null,
            "grid_auto_flow": null,
            "grid_auto_rows": null,
            "grid_column": null,
            "grid_gap": null,
            "grid_row": null,
            "grid_template_areas": null,
            "grid_template_columns": null,
            "grid_template_rows": null,
            "height": null,
            "justify_content": null,
            "justify_items": null,
            "left": null,
            "margin": null,
            "max_height": null,
            "max_width": null,
            "min_height": null,
            "min_width": null,
            "object_fit": null,
            "object_position": null,
            "order": null,
            "overflow": null,
            "overflow_x": null,
            "overflow_y": null,
            "padding": null,
            "right": null,
            "top": null,
            "visibility": null,
            "width": null
          }
        },
        "611a90c5a8034945aa0012a3c0b67cac": {
          "model_module": "@jupyter-widgets/base",
          "model_name": "LayoutModel",
          "model_module_version": "1.2.0",
          "state": {
            "_model_module": "@jupyter-widgets/base",
            "_model_module_version": "1.2.0",
            "_model_name": "LayoutModel",
            "_view_count": null,
            "_view_module": "@jupyter-widgets/base",
            "_view_module_version": "1.2.0",
            "_view_name": "LayoutView",
            "align_content": null,
            "align_items": null,
            "align_self": null,
            "border": null,
            "bottom": null,
            "display": null,
            "flex": null,
            "flex_flow": null,
            "grid_area": null,
            "grid_auto_columns": null,
            "grid_auto_flow": null,
            "grid_auto_rows": null,
            "grid_column": null,
            "grid_gap": null,
            "grid_row": null,
            "grid_template_areas": null,
            "grid_template_columns": null,
            "grid_template_rows": null,
            "height": null,
            "justify_content": null,
            "justify_items": null,
            "left": null,
            "margin": null,
            "max_height": null,
            "max_width": null,
            "min_height": null,
            "min_width": null,
            "object_fit": null,
            "object_position": null,
            "order": null,
            "overflow": null,
            "overflow_x": null,
            "overflow_y": null,
            "padding": null,
            "right": null,
            "top": null,
            "visibility": null,
            "width": null
          }
        },
        "c7876fffd9c7400fb5af0a9392f92058": {
          "model_module": "@jupyter-widgets/controls",
          "model_name": "SliderStyleModel",
          "model_module_version": "1.5.0",
          "state": {
            "_model_module": "@jupyter-widgets/controls",
            "_model_module_version": "1.5.0",
            "_model_name": "SliderStyleModel",
            "_view_count": null,
            "_view_module": "@jupyter-widgets/base",
            "_view_module_version": "1.2.0",
            "_view_name": "StyleView",
            "description_width": "",
            "handle_color": null
          }
        },
        "52a7718fad0346228bed93086dc2d0c0": {
          "model_module": "@jupyter-widgets/base",
          "model_name": "LayoutModel",
          "model_module_version": "1.2.0",
          "state": {
            "_model_module": "@jupyter-widgets/base",
            "_model_module_version": "1.2.0",
            "_model_name": "LayoutModel",
            "_view_count": null,
            "_view_module": "@jupyter-widgets/base",
            "_view_module_version": "1.2.0",
            "_view_name": "LayoutView",
            "align_content": null,
            "align_items": null,
            "align_self": null,
            "border": null,
            "bottom": null,
            "display": null,
            "flex": null,
            "flex_flow": null,
            "grid_area": null,
            "grid_auto_columns": null,
            "grid_auto_flow": null,
            "grid_auto_rows": null,
            "grid_column": null,
            "grid_gap": null,
            "grid_row": null,
            "grid_template_areas": null,
            "grid_template_columns": null,
            "grid_template_rows": null,
            "height": null,
            "justify_content": null,
            "justify_items": null,
            "left": null,
            "margin": null,
            "max_height": null,
            "max_width": null,
            "min_height": null,
            "min_width": null,
            "object_fit": null,
            "object_position": null,
            "order": null,
            "overflow": null,
            "overflow_x": null,
            "overflow_y": null,
            "padding": null,
            "right": null,
            "top": null,
            "visibility": null,
            "width": null
          }
        },
        "10ef700b05fb48a69b7e9c130542e987": {
          "model_module": "@jupyter-widgets/controls",
          "model_name": "SliderStyleModel",
          "model_module_version": "1.5.0",
          "state": {
            "_model_module": "@jupyter-widgets/controls",
            "_model_module_version": "1.5.0",
            "_model_name": "SliderStyleModel",
            "_view_count": null,
            "_view_module": "@jupyter-widgets/base",
            "_view_module_version": "1.2.0",
            "_view_name": "StyleView",
            "description_width": "",
            "handle_color": null
          }
        },
        "87bd1825dd694cf5b0ca72a157a9a0f3": {
          "model_module": "@jupyter-widgets/base",
          "model_name": "LayoutModel",
          "model_module_version": "1.2.0",
          "state": {
            "_model_module": "@jupyter-widgets/base",
            "_model_module_version": "1.2.0",
            "_model_name": "LayoutModel",
            "_view_count": null,
            "_view_module": "@jupyter-widgets/base",
            "_view_module_version": "1.2.0",
            "_view_name": "LayoutView",
            "align_content": null,
            "align_items": null,
            "align_self": null,
            "border": null,
            "bottom": null,
            "display": null,
            "flex": null,
            "flex_flow": null,
            "grid_area": null,
            "grid_auto_columns": null,
            "grid_auto_flow": null,
            "grid_auto_rows": null,
            "grid_column": null,
            "grid_gap": null,
            "grid_row": null,
            "grid_template_areas": null,
            "grid_template_columns": null,
            "grid_template_rows": null,
            "height": null,
            "justify_content": null,
            "justify_items": null,
            "left": null,
            "margin": null,
            "max_height": null,
            "max_width": null,
            "min_height": null,
            "min_width": null,
            "object_fit": null,
            "object_position": null,
            "order": null,
            "overflow": null,
            "overflow_x": null,
            "overflow_y": null,
            "padding": null,
            "right": null,
            "top": null,
            "visibility": null,
            "width": null
          }
        }
      }
    }
  },
  "nbformat": 4,
  "nbformat_minor": 0
}